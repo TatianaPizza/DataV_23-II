{
  "nbformat": 4,
  "nbformat_minor": 0,
  "metadata": {
    "colab": {
      "provenance": [],
      "include_colab_link": true
    },
    "kernelspec": {
      "name": "python3",
      "display_name": "Python 3"
    },
    "language_info": {
      "name": "python"
    }
  },
  "cells": [
    {
      "cell_type": "markdown",
      "metadata": {
        "id": "view-in-github",
        "colab_type": "text"
      },
      "source": [
        "<a href=\"https://colab.research.google.com/github/TatianaPizza/DataV_23-II/blob/main/Workshop_1.ipynb\" target=\"_parent\"><img src=\"https://colab.research.google.com/assets/colab-badge.svg\" alt=\"Open In Colab\"/></a>"
      ]
    },
    {
      "cell_type": "markdown",
      "source": [
        "<h1 align = \"center\">\n",
        "<strong> Universidad de La Salle </strong>\n",
        "</h1>\n",
        "\n",
        "<h1 align = \"center\">\n",
        "<strong> Finance and International Commerce Program </strong>\n",
        "</h1>\n",
        "\n",
        "<h1 align = \"center\">\n",
        "<strong> Data Visualization - Workshop 1 </strong>\n",
        "</h1>\n"
      ],
      "metadata": {
        "id": "BJolccUZSw9G"
      }
    },
    {
      "cell_type": "markdown",
      "source": [
        "# **Instructions**\n",
        "\n",
        "1. Please read carefully the document. Ask all the questions you may have.\n",
        "2. Save this file in your Google Drive.\n",
        "3. DO NOT alter any cell unless it specifically ask you to do it.\n",
        "4. You will have **two hours** (until 11am) maximum to finish and deliver this workshop.\n",
        "5. You can use any help you want: your notes, your codes, internet, classmates.\n",
        "6. Nevertheless, the workshop must be presented individually.\n",
        "7. Once you have finish, save a copy in your GitHub class repository.\n",
        "8. The deliver process is as follows:\n",
        "    \n",
        "    8.1. Via email you will send the link to the GitHub location.\n",
        "    \n",
        "    8.2. In the same mail, just for safety, you will attach a copy of your `.ipynb` file.\n",
        "    \n",
        "    8.3. The email must have the subject: \"W1 DV\".   "
      ],
      "metadata": {
        "id": "pLRc5RAyWsre"
      }
    },
    {
      "cell_type": "markdown",
      "source": [
        "# **To keep in mind**\n",
        "\n",
        "* The excercises propouse are intended to **push** you a little futher in your Pyton skills.\n",
        "* This means that there are going to be exercises above the level seen in class.\n",
        "* The idea is to incentive your creative thinking and solving problem skills.\n",
        "* As always there several ways to do the excersice. But in this case, I ask you to use only the tools we learned.\n",
        "* I ask you to trust me. Give your best effort. Grades do not matter here."
      ],
      "metadata": {
        "id": "4QKdNKujZEbk"
      }
    },
    {
      "cell_type": "markdown",
      "source": [
        "# **Exercise Set**"
      ],
      "metadata": {
        "id": "2kRoSKUmaGl9"
      }
    },
    {
      "cell_type": "markdown",
      "source": [
        "## Ex 1.\n",
        "\n",
        "In the cell code below, first create a variable with your full name then write the appropiate code, using *split*, to print your full name as this:\n",
        "\n",
        "`First Name: José` &nbsp;   &nbsp;   &nbsp;   &nbsp;   &nbsp; `Middle Name: Rodrigo`\n",
        "\n",
        "`First Last  Name: Vélez` &nbsp;   &nbsp;   &nbsp;   &nbsp;   &nbsp; `Second Last Name: Molano`"
      ],
      "metadata": {
        "id": "LAdWe8iEaL7B"
      }
    },
    {
      "cell_type": "code",
      "execution_count": 11,
      "metadata": {
        "id": "rw792kISSt3n",
        "outputId": "fdb2a66b-3a61-446b-8784-be0ace99bfd5",
        "colab": {
          "base_uri": "https://localhost:8080/"
        }
      },
      "outputs": [
        {
          "output_type": "stream",
          "name": "stdout",
          "text": [
            "First name: Alba\n",
            "Middle name: Tatiana\n",
            "First last name: Pizza\n",
            "Second last name: Gamba\n"
          ]
        }
      ],
      "source": [
        "# Answ. Ex 1\n",
        "# (write your code below)\n",
        "Full_name= 'Alba Tatiana Pizza Gamba'\n",
        "print(\"First name:\", Full_name.split(\" \")[0])\n",
        "print(\"Middle name:\", Full_name.split(\" \")[1])\n",
        "print(\"First last name:\", Full_name.split(\" \")[2])\n",
        "print(\"Second last name:\", Full_name.split(\" \")[3])"
      ]
    },
    {
      "cell_type": "markdown",
      "source": [
        "## Ex 2.\n",
        "\n",
        "In the cell code below, you are given two random numbers `x` and `y`.\n",
        "\n",
        "Write the appropiate code to print the result of dividing `x` by all its precedents rounded by `y` decimal positions.\n",
        "\n",
        "This is an example of the expected result for `x = 15` and `y = 2`:\n",
        "\n",
        "`15 / 1 = 15.00`\n",
        "\n",
        "`15 / 2 = 7.50`\n",
        "\n",
        "`15 / 3 = 5.00`\n",
        "\n",
        "`...`\n",
        "\n",
        "`15 / 15 = 1.00`\n",
        "\n",
        "**JUST IN CASE!** You must use the variables given to you"
      ],
      "metadata": {
        "id": "YFsGiwcNfgzP"
      }
    },
    {
      "cell_type": "code",
      "source": [
        "# Answ. Ex 2\n",
        "###################################\n",
        "#      DO NOT MODIFY THIS PART    #\n",
        "import numpy as np\n",
        "x = round(np.random.uniform(12,22))\n",
        "y = round(np.random.uniform(1,4))\n",
        "###################################\n",
        "\n",
        "# (write your code below)\n",
        "print('The variable is:',x)\n",
        "print('The decimals is:',y)\n",
        "print('Division list',x, ':')\n",
        "for i in range (1,x+1): print(x, '/',i, '=', round(x/i,y))\n"
      ],
      "metadata": {
        "id": "Dwdsh30Ti3vl",
        "outputId": "901049d6-2ff2-4e88-8ed9-a1eea905c606",
        "colab": {
          "base_uri": "https://localhost:8080/"
        }
      },
      "execution_count": 19,
      "outputs": [
        {
          "output_type": "stream",
          "name": "stdout",
          "text": [
            "The variable is: 16\n",
            "The decimals is: 2\n",
            "Division list 16 :\n",
            "16 / 1 = 16.0\n",
            "16 / 2 = 8.0\n",
            "16 / 3 = 5.33\n",
            "16 / 4 = 4.0\n",
            "16 / 5 = 3.2\n",
            "16 / 6 = 2.67\n",
            "16 / 7 = 2.29\n",
            "16 / 8 = 2.0\n",
            "16 / 9 = 1.78\n",
            "16 / 10 = 1.6\n",
            "16 / 11 = 1.45\n",
            "16 / 12 = 1.33\n",
            "16 / 13 = 1.23\n",
            "16 / 14 = 1.14\n",
            "16 / 15 = 1.07\n",
            "16 / 16 = 1.0\n"
          ]
        }
      ]
    },
    {
      "cell_type": "markdown",
      "source": [
        "## Ex 3.\n",
        "\n",
        "The Fibonnaci sequence is a sequence constructed by the process:\n",
        "\n",
        "$x_{i} = x_{i-1} + x_{i-2}$\n",
        "\n",
        "where $x_{1} = x_{2} = 1$.\n",
        "\n",
        "Below you are given a random number `z`, write the appropiate code to calculate and print the `z`th position of the Fibonnaci sequence.\n",
        "\n",
        "\n"
      ],
      "metadata": {
        "id": "PYIRNu3imJ_n"
      }
    },
    {
      "cell_type": "code",
      "source": [
        "# Answ. Ex 3\n",
        "###################################\n",
        "#      DO NOT MODIFY THIS PART    #\n",
        "import numpy as np\n",
        "z = round(np.random.uniform(50,100))\n",
        "###################################\n",
        "\n",
        "# (write your code below)\n",
        "f1= 1\n",
        "f2= 1\n",
        "f= f1 + f2\n",
        "\n",
        "f1 = f2\n",
        "f2 = f\n",
        "print(z,\"th\", \"The Fibonacci sequence up\")\n",
        "for i in range(4, z+1):\n",
        "  f = f1 + f2\n",
        "  print('The position is',i,'th:', f)\n",
        "  f1 = f2\n",
        "  f2 = f\n",
        "\n",
        "\n",
        "\n"
      ],
      "metadata": {
        "id": "wntlZUatp9uE",
        "outputId": "43ad4833-a211-4ce3-8f29-4dd8d65884b6",
        "colab": {
          "base_uri": "https://localhost:8080/"
        }
      },
      "execution_count": 36,
      "outputs": [
        {
          "output_type": "stream",
          "name": "stdout",
          "text": [
            "79 th The Fibonacci sequence up\n",
            "The position is 4 th: 3\n",
            "The position is 5 th: 5\n",
            "The position is 6 th: 8\n",
            "The position is 7 th: 13\n",
            "The position is 8 th: 21\n",
            "The position is 9 th: 34\n",
            "The position is 10 th: 55\n",
            "The position is 11 th: 89\n",
            "The position is 12 th: 144\n",
            "The position is 13 th: 233\n",
            "The position is 14 th: 377\n",
            "The position is 15 th: 610\n",
            "The position is 16 th: 987\n",
            "The position is 17 th: 1597\n",
            "The position is 18 th: 2584\n",
            "The position is 19 th: 4181\n",
            "The position is 20 th: 6765\n",
            "The position is 21 th: 10946\n",
            "The position is 22 th: 17711\n",
            "The position is 23 th: 28657\n",
            "The position is 24 th: 46368\n",
            "The position is 25 th: 75025\n",
            "The position is 26 th: 121393\n",
            "The position is 27 th: 196418\n",
            "The position is 28 th: 317811\n",
            "The position is 29 th: 514229\n",
            "The position is 30 th: 832040\n",
            "The position is 31 th: 1346269\n",
            "The position is 32 th: 2178309\n",
            "The position is 33 th: 3524578\n",
            "The position is 34 th: 5702887\n",
            "The position is 35 th: 9227465\n",
            "The position is 36 th: 14930352\n",
            "The position is 37 th: 24157817\n",
            "The position is 38 th: 39088169\n",
            "The position is 39 th: 63245986\n",
            "The position is 40 th: 102334155\n",
            "The position is 41 th: 165580141\n",
            "The position is 42 th: 267914296\n",
            "The position is 43 th: 433494437\n",
            "The position is 44 th: 701408733\n",
            "The position is 45 th: 1134903170\n",
            "The position is 46 th: 1836311903\n",
            "The position is 47 th: 2971215073\n",
            "The position is 48 th: 4807526976\n",
            "The position is 49 th: 7778742049\n",
            "The position is 50 th: 12586269025\n",
            "The position is 51 th: 20365011074\n",
            "The position is 52 th: 32951280099\n",
            "The position is 53 th: 53316291173\n",
            "The position is 54 th: 86267571272\n",
            "The position is 55 th: 139583862445\n",
            "The position is 56 th: 225851433717\n",
            "The position is 57 th: 365435296162\n",
            "The position is 58 th: 591286729879\n",
            "The position is 59 th: 956722026041\n",
            "The position is 60 th: 1548008755920\n",
            "The position is 61 th: 2504730781961\n",
            "The position is 62 th: 4052739537881\n",
            "The position is 63 th: 6557470319842\n",
            "The position is 64 th: 10610209857723\n",
            "The position is 65 th: 17167680177565\n",
            "The position is 66 th: 27777890035288\n",
            "The position is 67 th: 44945570212853\n",
            "The position is 68 th: 72723460248141\n",
            "The position is 69 th: 117669030460994\n",
            "The position is 70 th: 190392490709135\n",
            "The position is 71 th: 308061521170129\n",
            "The position is 72 th: 498454011879264\n",
            "The position is 73 th: 806515533049393\n",
            "The position is 74 th: 1304969544928657\n",
            "The position is 75 th: 2111485077978050\n",
            "The position is 76 th: 3416454622906707\n",
            "The position is 77 th: 5527939700884757\n",
            "The position is 78 th: 8944394323791464\n",
            "The position is 79 th: 14472334024676221\n"
          ]
        }
      ]
    },
    {
      "cell_type": "markdown",
      "source": [
        "## Ex 4.\n",
        "\n",
        "Create a string variable with the name of your favorite music artist or group.Write the appropiate code to print it in reversed order.\n",
        "\n",
        "*Example:*\n",
        "\n",
        "`w = 'Dog'`\n",
        "\n",
        "Expected result: `'goD'`.\n",
        "\n",
        "\n",
        "\n"
      ],
      "metadata": {
        "id": "2t2WnRieqLoc"
      }
    },
    {
      "cell_type": "code",
      "source": [
        "# Answ. Ex 4\n",
        "# (write your code below)\n",
        "J= \"Juanes\"\n",
        "print(\"J=\",J)\n",
        "print(('Juanes')[::-1])\n",
        "\n",
        "\n"
      ],
      "metadata": {
        "id": "FQU_vc_5sse0",
        "outputId": "15b24b5f-9cb6-4e6a-f7d4-5cd461db7964",
        "colab": {
          "base_uri": "https://localhost:8080/"
        }
      },
      "execution_count": 38,
      "outputs": [
        {
          "output_type": "stream",
          "name": "stdout",
          "text": [
            "J= Juanes\n",
            "senauJ\n"
          ]
        }
      ]
    },
    {
      "cell_type": "code",
      "source": [],
      "metadata": {
        "id": "PLKjzx8tDN3w"
      },
      "execution_count": null,
      "outputs": []
    }
  ]
}